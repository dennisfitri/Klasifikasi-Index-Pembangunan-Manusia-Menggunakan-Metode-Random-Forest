{
  "cells": [
    {
      "cell_type": "markdown",
      "source": [
        "### Klasifikasi Index Pembangunan Manusia Menggunakan Metode Random Forest"
      ],
      "metadata": {
        "id": "0JOWubR23eUX"
      }
    },
    {
      "cell_type": "code",
      "execution_count": 359,
      "metadata": {
        "id": "A7EqG0YPaMOh"
      },
      "outputs": [],
      "source": [
        "import pandas as pd\n",
        "import numpy as np\n",
        "import seaborn as sns\n",
        "import matplotlib.pyplot as plt\n",
        "from sklearn import preprocessing\n",
        "from sklearn.model_selection import train_test_split\n",
        "from sklearn.metrics import confusion_matrix\n",
        "from sklearn import metrics\n",
        "from sklearn.metrics import classification_report"
      ]
    },
    {
      "cell_type": "code",
      "execution_count": 360,
      "metadata": {
        "id": "id9xmgJbbHX2"
      },
      "outputs": [],
      "source": [
        "data = pd.read_csv(\"/content/IPM.csv\")"
      ]
    },
    {
      "cell_type": "code",
      "execution_count": 361,
      "metadata": {
        "colab": {
          "base_uri": "https://localhost:8080/",
          "height": 424
        },
        "id": "6DfADUopbSRU",
        "outputId": "aa9f44c7-13ab-4158-8db4-d943fde786b6"
      },
      "outputs": [
        {
          "output_type": "execute_result",
          "data": {
            "text/plain": [
              "      Harapan_Lama_Sekolah  Pengeluaran_Perkapita  Rerata_Lama_Sekolah  \\\n",
              "0                    14.36                   9572                 9.37   \n",
              "1                    13.90                   7148                 9.48   \n",
              "2                    14.32                   8776                 8.68   \n",
              "3                    14.60                   8180                 8.88   \n",
              "4                    14.01                   8030                 9.67   \n",
              "...                    ...                    ...                  ...   \n",
              "2191                 10.13                   5522                 4.91   \n",
              "2192                  7.11                   5440                 2.51   \n",
              "2193                  9.79                   4761                 2.99   \n",
              "2194                 14.99                  14922                11.30   \n",
              "2195                 12.91                  11059                 8.17   \n",
              "\n",
              "      Usia_Harapan_Hidup     IPM  \n",
              "0                  69.96    High  \n",
              "1                  65.28  Normal  \n",
              "2                  67.43  Normal  \n",
              "3                  64.40  Normal  \n",
              "4                  68.22  Normal  \n",
              "...                  ...     ...  \n",
              "2191               65.32     Low  \n",
              "2192               65.26     Low  \n",
              "2193               64.83     Low  \n",
              "2194               70.15    High  \n",
              "2195               71.20    High  \n",
              "\n",
              "[2196 rows x 5 columns]"
            ],
            "text/html": [
              "\n",
              "  <div id=\"df-7965272a-3dc9-4c24-867e-cdd301ecf64b\">\n",
              "    <div class=\"colab-df-container\">\n",
              "      <div>\n",
              "<style scoped>\n",
              "    .dataframe tbody tr th:only-of-type {\n",
              "        vertical-align: middle;\n",
              "    }\n",
              "\n",
              "    .dataframe tbody tr th {\n",
              "        vertical-align: top;\n",
              "    }\n",
              "\n",
              "    .dataframe thead th {\n",
              "        text-align: right;\n",
              "    }\n",
              "</style>\n",
              "<table border=\"1\" class=\"dataframe\">\n",
              "  <thead>\n",
              "    <tr style=\"text-align: right;\">\n",
              "      <th></th>\n",
              "      <th>Harapan_Lama_Sekolah</th>\n",
              "      <th>Pengeluaran_Perkapita</th>\n",
              "      <th>Rerata_Lama_Sekolah</th>\n",
              "      <th>Usia_Harapan_Hidup</th>\n",
              "      <th>IPM</th>\n",
              "    </tr>\n",
              "  </thead>\n",
              "  <tbody>\n",
              "    <tr>\n",
              "      <th>0</th>\n",
              "      <td>14.36</td>\n",
              "      <td>9572</td>\n",
              "      <td>9.37</td>\n",
              "      <td>69.96</td>\n",
              "      <td>High</td>\n",
              "    </tr>\n",
              "    <tr>\n",
              "      <th>1</th>\n",
              "      <td>13.90</td>\n",
              "      <td>7148</td>\n",
              "      <td>9.48</td>\n",
              "      <td>65.28</td>\n",
              "      <td>Normal</td>\n",
              "    </tr>\n",
              "    <tr>\n",
              "      <th>2</th>\n",
              "      <td>14.32</td>\n",
              "      <td>8776</td>\n",
              "      <td>8.68</td>\n",
              "      <td>67.43</td>\n",
              "      <td>Normal</td>\n",
              "    </tr>\n",
              "    <tr>\n",
              "      <th>3</th>\n",
              "      <td>14.60</td>\n",
              "      <td>8180</td>\n",
              "      <td>8.88</td>\n",
              "      <td>64.40</td>\n",
              "      <td>Normal</td>\n",
              "    </tr>\n",
              "    <tr>\n",
              "      <th>4</th>\n",
              "      <td>14.01</td>\n",
              "      <td>8030</td>\n",
              "      <td>9.67</td>\n",
              "      <td>68.22</td>\n",
              "      <td>Normal</td>\n",
              "    </tr>\n",
              "    <tr>\n",
              "      <th>...</th>\n",
              "      <td>...</td>\n",
              "      <td>...</td>\n",
              "      <td>...</td>\n",
              "      <td>...</td>\n",
              "      <td>...</td>\n",
              "    </tr>\n",
              "    <tr>\n",
              "      <th>2191</th>\n",
              "      <td>10.13</td>\n",
              "      <td>5522</td>\n",
              "      <td>4.91</td>\n",
              "      <td>65.32</td>\n",
              "      <td>Low</td>\n",
              "    </tr>\n",
              "    <tr>\n",
              "      <th>2192</th>\n",
              "      <td>7.11</td>\n",
              "      <td>5440</td>\n",
              "      <td>2.51</td>\n",
              "      <td>65.26</td>\n",
              "      <td>Low</td>\n",
              "    </tr>\n",
              "    <tr>\n",
              "      <th>2193</th>\n",
              "      <td>9.79</td>\n",
              "      <td>4761</td>\n",
              "      <td>2.99</td>\n",
              "      <td>64.83</td>\n",
              "      <td>Low</td>\n",
              "    </tr>\n",
              "    <tr>\n",
              "      <th>2194</th>\n",
              "      <td>14.99</td>\n",
              "      <td>14922</td>\n",
              "      <td>11.30</td>\n",
              "      <td>70.15</td>\n",
              "      <td>High</td>\n",
              "    </tr>\n",
              "    <tr>\n",
              "      <th>2195</th>\n",
              "      <td>12.91</td>\n",
              "      <td>11059</td>\n",
              "      <td>8.17</td>\n",
              "      <td>71.20</td>\n",
              "      <td>High</td>\n",
              "    </tr>\n",
              "  </tbody>\n",
              "</table>\n",
              "<p>2196 rows × 5 columns</p>\n",
              "</div>\n",
              "      <button class=\"colab-df-convert\" onclick=\"convertToInteractive('df-7965272a-3dc9-4c24-867e-cdd301ecf64b')\"\n",
              "              title=\"Convert this dataframe to an interactive table.\"\n",
              "              style=\"display:none;\">\n",
              "        \n",
              "  <svg xmlns=\"http://www.w3.org/2000/svg\" height=\"24px\"viewBox=\"0 0 24 24\"\n",
              "       width=\"24px\">\n",
              "    <path d=\"M0 0h24v24H0V0z\" fill=\"none\"/>\n",
              "    <path d=\"M18.56 5.44l.94 2.06.94-2.06 2.06-.94-2.06-.94-.94-2.06-.94 2.06-2.06.94zm-11 1L8.5 8.5l.94-2.06 2.06-.94-2.06-.94L8.5 2.5l-.94 2.06-2.06.94zm10 10l.94 2.06.94-2.06 2.06-.94-2.06-.94-.94-2.06-.94 2.06-2.06.94z\"/><path d=\"M17.41 7.96l-1.37-1.37c-.4-.4-.92-.59-1.43-.59-.52 0-1.04.2-1.43.59L10.3 9.45l-7.72 7.72c-.78.78-.78 2.05 0 2.83L4 21.41c.39.39.9.59 1.41.59.51 0 1.02-.2 1.41-.59l7.78-7.78 2.81-2.81c.8-.78.8-2.07 0-2.86zM5.41 20L4 18.59l7.72-7.72 1.47 1.35L5.41 20z\"/>\n",
              "  </svg>\n",
              "      </button>\n",
              "      \n",
              "  <style>\n",
              "    .colab-df-container {\n",
              "      display:flex;\n",
              "      flex-wrap:wrap;\n",
              "      gap: 12px;\n",
              "    }\n",
              "\n",
              "    .colab-df-convert {\n",
              "      background-color: #E8F0FE;\n",
              "      border: none;\n",
              "      border-radius: 50%;\n",
              "      cursor: pointer;\n",
              "      display: none;\n",
              "      fill: #1967D2;\n",
              "      height: 32px;\n",
              "      padding: 0 0 0 0;\n",
              "      width: 32px;\n",
              "    }\n",
              "\n",
              "    .colab-df-convert:hover {\n",
              "      background-color: #E2EBFA;\n",
              "      box-shadow: 0px 1px 2px rgba(60, 64, 67, 0.3), 0px 1px 3px 1px rgba(60, 64, 67, 0.15);\n",
              "      fill: #174EA6;\n",
              "    }\n",
              "\n",
              "    [theme=dark] .colab-df-convert {\n",
              "      background-color: #3B4455;\n",
              "      fill: #D2E3FC;\n",
              "    }\n",
              "\n",
              "    [theme=dark] .colab-df-convert:hover {\n",
              "      background-color: #434B5C;\n",
              "      box-shadow: 0px 1px 3px 1px rgba(0, 0, 0, 0.15);\n",
              "      filter: drop-shadow(0px 1px 2px rgba(0, 0, 0, 0.3));\n",
              "      fill: #FFFFFF;\n",
              "    }\n",
              "  </style>\n",
              "\n",
              "      <script>\n",
              "        const buttonEl =\n",
              "          document.querySelector('#df-7965272a-3dc9-4c24-867e-cdd301ecf64b button.colab-df-convert');\n",
              "        buttonEl.style.display =\n",
              "          google.colab.kernel.accessAllowed ? 'block' : 'none';\n",
              "\n",
              "        async function convertToInteractive(key) {\n",
              "          const element = document.querySelector('#df-7965272a-3dc9-4c24-867e-cdd301ecf64b');\n",
              "          const dataTable =\n",
              "            await google.colab.kernel.invokeFunction('convertToInteractive',\n",
              "                                                     [key], {});\n",
              "          if (!dataTable) return;\n",
              "\n",
              "          const docLinkHtml = 'Like what you see? Visit the ' +\n",
              "            '<a target=\"_blank\" href=https://colab.research.google.com/notebooks/data_table.ipynb>data table notebook</a>'\n",
              "            + ' to learn more about interactive tables.';\n",
              "          element.innerHTML = '';\n",
              "          dataTable['output_type'] = 'display_data';\n",
              "          await google.colab.output.renderOutput(dataTable, element);\n",
              "          const docLink = document.createElement('div');\n",
              "          docLink.innerHTML = docLinkHtml;\n",
              "          element.appendChild(docLink);\n",
              "        }\n",
              "      </script>\n",
              "    </div>\n",
              "  </div>\n",
              "  "
            ]
          },
          "metadata": {},
          "execution_count": 361
        }
      ],
      "source": [
        "data"
      ]
    },
    {
      "cell_type": "markdown",
      "metadata": {
        "id": "poVt0yWtc_Qt"
      },
      "source": [
        "DATA PREPROCESSING"
      ]
    },
    {
      "cell_type": "code",
      "execution_count": 362,
      "metadata": {
        "colab": {
          "base_uri": "https://localhost:8080/"
        },
        "id": "-EXqU-xBbY0r",
        "outputId": "02c72309-a941-4a22-a087-0d9ae65c2bd4"
      },
      "outputs": [
        {
          "output_type": "stream",
          "name": "stdout",
          "text": [
            "<class 'pandas.core.frame.DataFrame'>\n",
            "RangeIndex: 2196 entries, 0 to 2195\n",
            "Data columns (total 5 columns):\n",
            " #   Column                 Non-Null Count  Dtype  \n",
            "---  ------                 --------------  -----  \n",
            " 0   Harapan_Lama_Sekolah   2196 non-null   float64\n",
            " 1   Pengeluaran_Perkapita  2196 non-null   int64  \n",
            " 2   Rerata_Lama_Sekolah    2196 non-null   float64\n",
            " 3   Usia_Harapan_Hidup     2196 non-null   float64\n",
            " 4   IPM                    2196 non-null   object \n",
            "dtypes: float64(3), int64(1), object(1)\n",
            "memory usage: 85.9+ KB\n"
          ]
        }
      ],
      "source": [
        "#cek type data\n",
        "data.info()"
      ]
    },
    {
      "cell_type": "code",
      "execution_count": 363,
      "metadata": {
        "colab": {
          "base_uri": "https://localhost:8080/"
        },
        "id": "6XvaqQEWb8Ik",
        "outputId": "ad7e1b13-762d-4395-b71b-ee70843e6628"
      },
      "outputs": [
        {
          "output_type": "execute_result",
          "data": {
            "text/plain": [
              "array(['High', 'Normal', 'Very-High', 'Low'], dtype=object)"
            ]
          },
          "metadata": {},
          "execution_count": 363
        }
      ],
      "source": [
        "#cek kategori IPM ada apa saja\n",
        "data['IPM'].unique()"
      ]
    },
    {
      "cell_type": "code",
      "execution_count": 364,
      "metadata": {
        "colab": {
          "base_uri": "https://localhost:8080/"
        },
        "id": "ZfvTm3ZpcCE5",
        "outputId": "f20cb75d-9c9a-4ca2-a746-a9f2e8a3b848"
      },
      "outputs": [
        {
          "output_type": "execute_result",
          "data": {
            "text/plain": [
              "Normal       1128\n",
              "High          829\n",
              "Very-High     146\n",
              "Low            93\n",
              "Name: IPM, dtype: int64"
            ]
          },
          "metadata": {},
          "execution_count": 364
        }
      ],
      "source": [
        "#cek jumlah data per kategori IPM\n",
        "data['IPM'].value_counts()"
      ]
    },
    {
      "cell_type": "markdown",
      "metadata": {
        "id": "Bk1NO1AVeDi_"
      },
      "source": [
        "Visualisasi Data"
      ]
    },
    {
      "cell_type": "code",
      "execution_count": 365,
      "metadata": {
        "colab": {
          "base_uri": "https://localhost:8080/",
          "height": 382
        },
        "id": "qPvlsEYkdiYh",
        "outputId": "82483721-aaa0-46ad-eb06-e27796514a31"
      },
      "outputs": [
        {
          "output_type": "stream",
          "name": "stdout",
          "text": [
            "Normal       1128\n",
            "High          829\n",
            "Very-High     146\n",
            "Low            93\n",
            "Name: IPM, dtype: int64\n"
          ]
        },
        {
          "output_type": "display_data",
          "data": {
            "text/plain": [
              "<Figure size 432x288 with 1 Axes>"
            ],
            "image/png": "[encoded data removed]"
          },
          "metadata": {
            "needs_background": "light"
          }
        }
      ],
      "source": [
        "target = 'IPM'\n",
        "ax = sns.countplot(x=target,data=data)\n",
        "print(data[target].value_counts())\n",
        "\n",
        "plt.xlabel(\"IPM Kategory\")\n",
        "plt.ylabel(\"Total\")\n",
        "plt.title(\"Jumlah total per Kategori IPM\")\n",
        "plt.show()"
      ]
    },
    {
      "cell_type": "code",
      "execution_count": 366,
      "metadata": {
        "colab": {
          "base_uri": "https://localhost:8080/",
          "height": 554
        },
        "id": "tzdiweErdCoy",
        "outputId": "210397ee-c3ef-4412-a34d-6cdd0a880c85"
      },
      "outputs": [
        {
          "output_type": "stream",
          "name": "stderr",
          "text": [
            "<ipython-input-366-5c66c59fc140>:2: SettingWithCopyWarning: \n",
            "A value is trying to be set on a copy of a slice from a DataFrame\n",
            "\n",
            "See the caveats in the documentation: https://pandas.pydata.org/pandas-docs/stable/user_guide/indexing.html#returning-a-view-versus-a-copy\n",
            "  data['IPM'][data['IPM'] == 'Low'] = 0\n",
            "<ipython-input-366-5c66c59fc140>:3: SettingWithCopyWarning: \n",
            "A value is trying to be set on a copy of a slice from a DataFrame\n",
            "\n",
            "See the caveats in the documentation: https://pandas.pydata.org/pandas-docs/stable/user_guide/indexing.html#returning-a-view-versus-a-copy\n",
            "  data['IPM'][data['IPM'] == 'Normal'] = 1\n",
            "<ipython-input-366-5c66c59fc140>:4: SettingWithCopyWarning: \n",
            "A value is trying to be set on a copy of a slice from a DataFrame\n",
            "\n",
            "See the caveats in the documentation: https://pandas.pydata.org/pandas-docs/stable/user_guide/indexing.html#returning-a-view-versus-a-copy\n",
            "  data['IPM'][data['IPM'] == 'High'] = 2\n",
            "<ipython-input-366-5c66c59fc140>:5: SettingWithCopyWarning: \n",
            "A value is trying to be set on a copy of a slice from a DataFrame\n",
            "\n",
            "See the caveats in the documentation: https://pandas.pydata.org/pandas-docs/stable/user_guide/indexing.html#returning-a-view-versus-a-copy\n",
            "  data['IPM'][data['IPM'] == 'Very-High'] = 3\n"
          ]
        },
        {
          "output_type": "execute_result",
          "data": {
            "text/plain": [
              "   Harapan_Lama_Sekolah  Pengeluaran_Perkapita  Rerata_Lama_Sekolah  \\\n",
              "0                 14.36                   9572                 9.37   \n",
              "1                 13.90                   7148                 9.48   \n",
              "2                 14.32                   8776                 8.68   \n",
              "3                 14.60                   8180                 8.88   \n",
              "4                 14.01                   8030                 9.67   \n",
              "\n",
              "   Usia_Harapan_Hidup IPM  \n",
              "0               69.96   2  \n",
              "1               65.28   1  \n",
              "2               67.43   1  \n",
              "3               64.40   1  \n",
              "4               68.22   1  "
            ],
            "text/html": [
              "\n",
              "  <div id=\"df-425c9c6c-d3a4-41d1-9aeb-61f6c2b24b90\">\n",
              "    <div class=\"colab-df-container\">\n",
              "      <div>\n",
              "<style scoped>\n",
              "    .dataframe tbody tr th:only-of-type {\n",
              "        vertical-align: middle;\n",
              "    }\n",
              "\n",
              "    .dataframe tbody tr th {\n",
              "        vertical-align: top;\n",
              "    }\n",
              "\n",
              "    .dataframe thead th {\n",
              "        text-align: right;\n",
              "    }\n",
              "</style>\n",
              "<table border=\"1\" class=\"dataframe\">\n",
              "  <thead>\n",
              "    <tr style=\"text-align: right;\">\n",
              "      <th></th>\n",
              "      <th>Harapan_Lama_Sekolah</th>\n",
              "      <th>Pengeluaran_Perkapita</th>\n",
              "      <th>Rerata_Lama_Sekolah</th>\n",
              "      <th>Usia_Harapan_Hidup</th>\n",
              "      <th>IPM</th>\n",
              "    </tr>\n",
              "  </thead>\n",
              "  <tbody>\n",
              "    <tr>\n",
              "      <th>0</th>\n",
              "      <td>14.36</td>\n",
              "      <td>9572</td>\n",
              "      <td>9.37</td>\n",
              "      <td>69.96</td>\n",
              "      <td>2</td>\n",
              "    </tr>\n",
              "    <tr>\n",
              "      <th>1</th>\n",
              "      <td>13.90</td>\n",
              "      <td>7148</td>\n",
              "      <td>9.48</td>\n",
              "      <td>65.28</td>\n",
              "      <td>1</td>\n",
              "    </tr>\n",
              "    <tr>\n",
              "      <th>2</th>\n",
              "      <td>14.32</td>\n",
              "      <td>8776</td>\n",
              "      <td>8.68</td>\n",
              "      <td>67.43</td>\n",
              "      <td>1</td>\n",
              "    </tr>\n",
              "    <tr>\n",
              "      <th>3</th>\n",
              "      <td>14.60</td>\n",
              "      <td>8180</td>\n",
              "      <td>8.88</td>\n",
              "      <td>64.40</td>\n",
              "      <td>1</td>\n",
              "    </tr>\n",
              "    <tr>\n",
              "      <th>4</th>\n",
              "      <td>14.01</td>\n",
              "      <td>8030</td>\n",
              "      <td>9.67</td>\n",
              "      <td>68.22</td>\n",
              "      <td>1</td>\n",
              "    </tr>\n",
              "  </tbody>\n",
              "</table>\n",
              "</div>\n",
              "      <button class=\"colab-df-convert\" onclick=\"convertToInteractive('df-425c9c6c-d3a4-41d1-9aeb-61f6c2b24b90')\"\n",
              "              title=\"Convert this dataframe to an interactive table.\"\n",
              "              style=\"display:none;\">\n",
              "        \n",
              "  <svg xmlns=\"http://www.w3.org/2000/svg\" height=\"24px\"viewBox=\"0 0 24 24\"\n",
              "       width=\"24px\">\n",
              "    <path d=\"M0 0h24v24H0V0z\" fill=\"none\"/>\n",
              "    <path d=\"M18.56 5.44l.94 2.06.94-2.06 2.06-.94-2.06-.94-.94-2.06-.94 2.06-2.06.94zm-11 1L8.5 8.5l.94-2.06 2.06-.94-2.06-.94L8.5 2.5l-.94 2.06-2.06.94zm10 10l.94 2.06.94-2.06 2.06-.94-2.06-.94-.94-2.06-.94 2.06-2.06.94z\"/><path d=\"M17.41 7.96l-1.37-1.37c-.4-.4-.92-.59-1.43-.59-.52 0-1.04.2-1.43.59L10.3 9.45l-7.72 7.72c-.78.78-.78 2.05 0 2.83L4 21.41c.39.39.9.59 1.41.59.51 0 1.02-.2 1.41-.59l7.78-7.78 2.81-2.81c.8-.78.8-2.07 0-2.86zM5.41 20L4 18.59l7.72-7.72 1.47 1.35L5.41 20z\"/>\n",
              "  </svg>\n",
              "      </button>\n",
              "      \n",
              "  <style>\n",
              "    .colab-df-container {\n",
              "      display:flex;\n",
              "      flex-wrap:wrap;\n",
              "      gap: 12px;\n",
              "    }\n",
              "\n",
              "    .colab-df-convert {\n",
              "      background-color: #E8F0FE;\n",
              "      border: none;\n",
              "      border-radius: 50%;\n",
              "      cursor: pointer;\n",
              "      display: none;\n",
              "      fill: #1967D2;\n",
              "      height: 32px;\n",
              "      padding: 0 0 0 0;\n",
              "      width: 32px;\n",
              "    }\n",
              "\n",
              "    .colab-df-convert:hover {\n",
              "      background-color: #E2EBFA;\n",
              "      box-shadow: 0px 1px 2px rgba(60, 64, 67, 0.3), 0px 1px 3px 1px rgba(60, 64, 67, 0.15);\n",
              "      fill: #174EA6;\n",
              "    }\n",
              "\n",
              "    [theme=dark] .colab-df-convert {\n",
              "      background-color: #3B4455;\n",
              "      fill: #D2E3FC;\n",
              "    }\n",
              "\n",
              "    [theme=dark] .colab-df-convert:hover {\n",
              "      background-color: #434B5C;\n",
              "      box-shadow: 0px 1px 3px 1px rgba(0, 0, 0, 0.15);\n",
              "      filter: drop-shadow(0px 1px 2px rgba(0, 0, 0, 0.3));\n",
              "      fill: #FFFFFF;\n",
              "    }\n",
              "  </style>\n",
              "\n",
              "      <script>\n",
              "        const buttonEl =\n",
              "          document.querySelector('#df-425c9c6c-d3a4-41d1-9aeb-61f6c2b24b90 button.colab-df-convert');\n",
              "        buttonEl.style.display =\n",
              "          google.colab.kernel.accessAllowed ? 'block' : 'none';\n",
              "\n",
              "        async function convertToInteractive(key) {\n",
              "          const element = document.querySelector('#df-425c9c6c-d3a4-41d1-9aeb-61f6c2b24b90');\n",
              "          const dataTable =\n",
              "            await google.colab.kernel.invokeFunction('convertToInteractive',\n",
              "                                                     [key], {});\n",
              "          if (!dataTable) return;\n",
              "\n",
              "          const docLinkHtml = 'Like what you see? Visit the ' +\n",
              "            '<a target=\"_blank\" href=https://colab.research.google.com/notebooks/data_table.ipynb>data table notebook</a>'\n",
              "            + ' to learn more about interactive tables.';\n",
              "          element.innerHTML = '';\n",
              "          dataTable['output_type'] = 'display_data';\n",
              "          await google.colab.output.renderOutput(dataTable, element);\n",
              "          const docLink = document.createElement('div');\n",
              "          docLink.innerHTML = docLinkHtml;\n",
              "          element.appendChild(docLink);\n",
              "        }\n",
              "      </script>\n",
              "    </div>\n",
              "  </div>\n",
              "  "
            ]
          },
          "metadata": {},
          "execution_count": 366
        }
      ],
      "source": [
        "#Data Transformasi\n",
        "data['IPM'][data['IPM'] == 'Low'] = 0\n",
        "data['IPM'][data['IPM'] == 'Normal'] = 1\n",
        "data['IPM'][data['IPM'] == 'High'] = 2\n",
        "data['IPM'][data['IPM'] == 'Very-High'] = 3\n",
        "data.head()"
      ]
    },
    {
      "cell_type": "code",
      "execution_count": 367,
      "metadata": {
        "id": "wWKjYfFx86Au"
      },
      "outputs": [],
      "source": [
        "#Mengubah type data IPM\n",
        "data['IPM'] = data['IPM'].astype(\"int64\")"
      ]
    },
    {
      "cell_type": "code",
      "execution_count": 368,
      "metadata": {
        "id": "08YibdC0szp5"
      },
      "outputs": [],
      "source": [
        "#Mendefinisikan variabel X dan Y\n",
        "X = data.drop(['IPM'],axis = 1)\n",
        "y = data['IPM']"
      ]
    },
    {
      "cell_type": "markdown",
      "metadata": {
        "id": "b_n70S1xucTr"
      },
      "source": [
        "SPLIT DATA, MODELING, DAN EVALUASI"
      ]
    },
    {
      "cell_type": "markdown",
      "metadata": {
        "id": "dzxY7tk4ufq9"
      },
      "source": [
        "TEST 1"
      ]
    },
    {
      "cell_type": "code",
      "execution_count": 369,
      "metadata": {
        "colab": {
          "base_uri": "https://localhost:8080/"
        },
        "id": "iKU_9ePFDeV4",
        "outputId": "76c16118-a7ca-4dc8-f44e-780310406762"
      },
      "outputs": [
        {
          "output_type": "execute_result",
          "data": {
            "text/plain": [
              "((1756, 4), (440, 4))"
            ]
          },
          "metadata": {},
          "execution_count": 369
        }
      ],
      "source": [
        "#Membagi dataset menjadi data training dan testing dengan perbandingan 80:20 data digunakan sebagai data testing.\n",
        "X_train, X_test, y_train, y_test = train_test_split(X, y, test_size = 0.20, random_state = 50)\n",
        "X_train.shape, X_test.shape"
      ]
    },
    {
      "cell_type": "code",
      "execution_count": 370,
      "metadata": {
        "id": "EOsF3FxeOlz5"
      },
      "outputs": [],
      "source": [
        "#Normalisasi Data\n",
        "from sklearn.preprocessing import StandardScaler\n",
        "scaler = StandardScaler()\n",
        "scaler.fit(X_train)\n",
        "x_train = scaler.transform(X_train)\n",
        "x_test = scaler.transform(X_test)"
      ]
    },
    {
      "cell_type": "markdown",
      "metadata": {
        "id": "K4lh0_e8QonV"
      },
      "source": [
        "MODEL 1"
      ]
    },
    {
      "cell_type": "code",
      "execution_count": 371,
      "metadata": {
        "colab": {
          "base_uri": "https://localhost:8080/"
        },
        "id": "ses-Xq_EubJv",
        "outputId": "83dab13b-4fd8-4278-fec1-d02b9f5f39a9"
      },
      "outputs": [
        {
          "output_type": "execute_result",
          "data": {
            "text/plain": [
              "RandomForestClassifier(criterion='entropy', n_estimators=250)"
            ]
          },
          "metadata": {},
          "execution_count": 371
        }
      ],
      "source": [
        "#Membuat model random forest dengan banyak tree dalam forest adalah 250 serta untuk mengukur kualitas split menggunakan entropi untuk perolehan infomasi\n",
        "from sklearn.ensemble import RandomForestClassifier\n",
        "classifier_rf = RandomForestClassifier(n_estimators=250, criterion=\"entropy\")\n",
        "classifier_rf.fit(X_train, y_train)"
      ]
    },
    {
      "cell_type": "code",
      "execution_count": 372,
      "metadata": {
        "id": "P84T8mAqutmb"
      },
      "outputs": [],
      "source": [
        "#Inisialisi hasil prediksi model Random Forest dari data training\n",
        "y_train_pred = classifier_rf.predict(X_train)\n",
        "#Inisialisasi hasil prediksi model random forest dari data testing\n",
        "y_test_pred = classifier_rf.predict(X_test)"
      ]
    },
    {
      "cell_type": "markdown",
      "metadata": {
        "id": "omBopH-6OPQN"
      },
      "source": [
        "Evaluasi Model 1"
      ]
    },
    {
      "cell_type": "code",
      "execution_count": 373,
      "metadata": {
        "colab": {
          "base_uri": "https://localhost:8080/"
        },
        "id": "jFOf-msKuyS-",
        "outputId": "4b526453-552e-4977-8f77-40ea0eb740df"
      },
      "outputs": [
        {
          "output_type": "stream",
          "name": "stdout",
          "text": [
            "Training-set accuracy score: 1.0\n",
            "Test-set accuracy score: 0.9840909090909091\n"
          ]
        }
      ],
      "source": [
        "#Menampilkan nilai akurasi untuk prediksi di data training\n",
        "print('Training-set accuracy score:', classifier_rf.score(X_train, y_train))\n",
        "#Menampilkan nilai akurasi untuk prediksi di data testing\n",
        "print('Test-set accuracy score:', classifier_rf.score(X_test, y_test))"
      ]
    },
    {
      "cell_type": "code",
      "execution_count": 374,
      "metadata": {
        "colab": {
          "base_uri": "https://localhost:8080/"
        },
        "id": "fXolB7m8PuFz",
        "outputId": "fe56aeae-9c4c-40ba-e9b8-cb5429b0fa65"
      },
      "outputs": [
        {
          "output_type": "stream",
          "name": "stdout",
          "text": [
            "              precision    recall  f1-score   support\n",
            "\n",
            "           0       1.00      1.00      1.00        75\n",
            "           1       1.00      1.00      1.00       897\n",
            "           2       1.00      1.00      1.00       668\n",
            "           3       1.00      1.00      1.00       116\n",
            "\n",
            "    accuracy                           1.00      1756\n",
            "   macro avg       1.00      1.00      1.00      1756\n",
            "weighted avg       1.00      1.00      1.00      1756\n",
            "\n"
          ]
        }
      ],
      "source": [
        "print(classification_report(y_train, y_train_pred))"
      ]
    },
    {
      "cell_type": "code",
      "execution_count": 375,
      "metadata": {
        "colab": {
          "base_uri": "https://localhost:8080/"
        },
        "id": "X0LuLLLmvII6",
        "outputId": "803570a9-df06-40d8-df20-2504033d6547"
      },
      "outputs": [
        {
          "output_type": "stream",
          "name": "stdout",
          "text": [
            "              precision    recall  f1-score   support\n",
            "\n",
            "           0       1.00      1.00      1.00        18\n",
            "           1       0.99      0.98      0.99       231\n",
            "           2       0.98      0.98      0.98       161\n",
            "           3       0.97      1.00      0.98        30\n",
            "\n",
            "    accuracy                           0.98       440\n",
            "   macro avg       0.98      0.99      0.99       440\n",
            "weighted avg       0.98      0.98      0.98       440\n",
            "\n"
          ]
        }
      ],
      "source": [
        "print(classification_report(y_test, y_test_pred))"
      ]
    },
    {
      "cell_type": "code",
      "execution_count": 376,
      "metadata": {
        "colab": {
          "base_uri": "https://localhost:8080/",
          "height": 279
        },
        "id": "C_KCNiiCvMxb",
        "outputId": "9a61e5d6-b5ed-4288-d1c3-db2dc0b84274"
      },
      "outputs": [
        {
          "output_type": "display_data",
          "data": {
            "text/plain": [
              "<Figure size 432x288 with 2 Axes>"
            ],
            "image/png": "[encoded data removed]"
          },
          "metadata": {
            "needs_background": "light"
          }
        }
      ],
      "source": [
        "#Evaluasi model dengan confusion matrix\n",
        "import matplotlib.pyplot as plt\n",
        "import numpy\n",
        "from sklearn import metrics\n",
        "\n",
        "\n",
        "confusion_matrix = metrics.confusion_matrix(y_test, y_test_pred)\n",
        "\n",
        "cm_display = metrics.ConfusionMatrixDisplay(confusion_matrix = confusion_matrix, display_labels = [\"Low\",\"Normal\",\"High\",\"Very-High\" ])\n",
        "\n",
        "cm_display.plot()\n",
        "plt.show()"
      ]
    },
    {
      "cell_type": "markdown",
      "metadata": {
        "id": "TcQ0uZ0eCN26"
      },
      "source": [
        "TEST 2"
      ]
    },
    {
      "cell_type": "code",
      "execution_count": 377,
      "metadata": {
        "colab": {
          "base_uri": "https://localhost:8080/"
        },
        "id": "rTcfS1RzCQyX",
        "outputId": "adc4a212-383e-4615-8205-3a08b7b6aa52"
      },
      "outputs": [
        {
          "output_type": "execute_result",
          "data": {
            "text/plain": [
              "((1976, 4), (220, 4))"
            ]
          },
          "metadata": {},
          "execution_count": 377
        }
      ],
      "source": [
        "#Membagi dataset menjadi data training dan testing dengan perbandingan 90:10 data digunakan sebagai data testing.\n",
        "X_train, X_test, y_train, y_test = train_test_split(X, y, test_size = 0.10, random_state = 50)\n",
        "X_train.shape, X_test.shape"
      ]
    },
    {
      "cell_type": "code",
      "execution_count": 378,
      "metadata": {
        "id": "SOc1YfAwTnbk"
      },
      "outputs": [],
      "source": [
        "#Normalisasi Data\n",
        "from sklearn.preprocessing import StandardScaler\n",
        "scaler = StandardScaler()\n",
        "scaler.fit(X_train)\n",
        "x_train = scaler.transform(X_train)\n",
        "x_test = scaler.transform(X_test)"
      ]
    },
    {
      "cell_type": "markdown",
      "metadata": {
        "id": "azYGWI6TTq8a"
      },
      "source": [
        "MODEL 2"
      ]
    },
    {
      "cell_type": "code",
      "execution_count": 379,
      "metadata": {
        "colab": {
          "base_uri": "https://localhost:8080/"
        },
        "id": "FWvOuo1HCm4O",
        "outputId": "0bbe7bcf-8659-44b2-c3ab-bc230ad5d91e"
      },
      "outputs": [
        {
          "output_type": "execute_result",
          "data": {
            "text/plain": [
              "RandomForestClassifier(criterion='entropy', n_estimators=250)"
            ]
          },
          "metadata": {},
          "execution_count": 379
        }
      ],
      "source": [
        "#Membuat model random forest dengan banyak tree dalam forest adalah 250 serta untuk mengukur kualitas split menggunakan entropi untuk perolehan infomasi\n",
        "from sklearn.ensemble import RandomForestClassifier\n",
        "classifier_rf = RandomForestClassifier(n_estimators=250, criterion=\"entropy\")\n",
        "classifier_rf.fit(X_train, y_train)"
      ]
    },
    {
      "cell_type": "code",
      "execution_count": 380,
      "metadata": {
        "id": "OSMbquVOCq7y"
      },
      "outputs": [],
      "source": [
        "#Inisialisi hasil prediksi model Random Forest dari data training\n",
        "y_train_pred = classifier_rf.predict(X_train)\n",
        "#Inisialisasi hasil prediksi model random forest dari data testing\n",
        "y_test_pred = classifier_rf.predict(X_test)"
      ]
    },
    {
      "cell_type": "markdown",
      "metadata": {
        "id": "B7Ow1m3AWWyK"
      },
      "source": [
        "Evaluasi Model 2"
      ]
    },
    {
      "cell_type": "code",
      "execution_count": 381,
      "metadata": {
        "colab": {
          "base_uri": "https://localhost:8080/"
        },
        "id": "wkBb1MI9CvMI",
        "outputId": "f567e499-9d62-4677-cc3a-47914b7b2d43"
      },
      "outputs": [
        {
          "output_type": "stream",
          "name": "stdout",
          "text": [
            "Training-set accuracy score: 1.0\n",
            "Test-set accuracy score: 0.9818181818181818\n"
          ]
        }
      ],
      "source": [
        "#Menampilkan nilai akurasi untuk prediksi di data training\n",
        "print('Training-set accuracy score:', classifier_rf.score(X_train, y_train))\n",
        "#Menampilkan nilai akurasi untuk prediksi di data testing\n",
        "print('Test-set accuracy score:', classifier_rf.score(X_test, y_test))"
      ]
    },
    {
      "cell_type": "code",
      "execution_count": 382,
      "metadata": {
        "colab": {
          "base_uri": "https://localhost:8080/"
        },
        "id": "SzDT8X7JUzow",
        "outputId": "c8de59c0-cd9e-4081-d7ff-24c1ede4e1ad"
      },
      "outputs": [
        {
          "output_type": "stream",
          "name": "stdout",
          "text": [
            "              precision    recall  f1-score   support\n",
            "\n",
            "           0       1.00      1.00      1.00        84\n",
            "           1       1.00      1.00      1.00      1005\n",
            "           2       1.00      1.00      1.00       757\n",
            "           3       1.00      1.00      1.00       130\n",
            "\n",
            "    accuracy                           1.00      1976\n",
            "   macro avg       1.00      1.00      1.00      1976\n",
            "weighted avg       1.00      1.00      1.00      1976\n",
            "\n"
          ]
        }
      ],
      "source": [
        "print(classification_report(y_train, y_train_pred))"
      ]
    },
    {
      "cell_type": "code",
      "execution_count": 383,
      "metadata": {
        "colab": {
          "base_uri": "https://localhost:8080/"
        },
        "id": "U2d2jksnVeuq",
        "outputId": "49775e6b-b152-43a8-8000-9015506764fc"
      },
      "outputs": [
        {
          "output_type": "stream",
          "name": "stdout",
          "text": [
            "              precision    recall  f1-score   support\n",
            "\n",
            "           0       1.00      1.00      1.00         9\n",
            "           1       0.98      1.00      0.99       123\n",
            "           2       0.99      0.96      0.97        72\n",
            "           3       0.94      0.94      0.94        16\n",
            "\n",
            "    accuracy                           0.98       220\n",
            "   macro avg       0.98      0.97      0.98       220\n",
            "weighted avg       0.98      0.98      0.98       220\n",
            "\n"
          ]
        }
      ],
      "source": [
        "print(classification_report(y_test, y_test_pred))"
      ]
    },
    {
      "cell_type": "code",
      "execution_count": 384,
      "metadata": {
        "colab": {
          "base_uri": "https://localhost:8080/",
          "height": 279
        },
        "id": "5KTQ2_A6Vpzu",
        "outputId": "abf9ca73-9fc4-4313-fce3-743703203203"
      },
      "outputs": [
        {
          "output_type": "display_data",
          "data": {
            "text/plain": [
              "<Figure size 432x288 with 2 Axes>"
            ],
            "image/png": "[encoded data removed]"
          },
          "metadata": {
            "needs_background": "light"
          }
        }
      ],
      "source": [
        "#Evaluasi model dengan confusion matrix\n",
        "import matplotlib.pyplot as plt\n",
        "import numpy\n",
        "from sklearn import metrics\n",
        "\n",
        "\n",
        "confusion_matrix = metrics.confusion_matrix(y_test, y_test_pred)\n",
        "\n",
        "cm_display = metrics.ConfusionMatrixDisplay(confusion_matrix = confusion_matrix, display_labels = [\"Low\",\"Normal\",\"High\",\"Very-High\" ])\n",
        "\n",
        "cm_display.plot()\n",
        "plt.show()"
      ]
    },
    {
      "cell_type": "markdown",
      "metadata": {
        "id": "0syOyyq7IphJ"
      },
      "source": [
        "TEST 3"
      ]
    },
    {
      "cell_type": "code",
      "execution_count": 385,
      "metadata": {
        "colab": {
          "base_uri": "https://localhost:8080/"
        },
        "id": "exgtgleAI6dy",
        "outputId": "59fabe96-a00e-4f69-f112-cf8b9621908a"
      },
      "outputs": [
        {
          "output_type": "execute_result",
          "data": {
            "text/plain": [
              "((1756, 4), (440, 4))"
            ]
          },
          "metadata": {},
          "execution_count": 385
        }
      ],
      "source": [
        "#Membagi dataset menjadi data training dan testing dengan perbandingan 80:20 data digunakan sebagai data testing.\n",
        "X_train, X_test, y_train, y_test = train_test_split(X, y, test_size = 0.20, random_state = 50)\n",
        "X_train.shape, X_test.shape"
      ]
    },
    {
      "cell_type": "code",
      "execution_count": 386,
      "metadata": {
        "id": "GSGZu2XKTyM8"
      },
      "outputs": [],
      "source": [
        "#Normalisasi Data\n",
        "from sklearn.preprocessing import StandardScaler\n",
        "scaler = StandardScaler()\n",
        "scaler.fit(X_train)\n",
        "x_train = scaler.transform(X_train)\n",
        "x_test = scaler.transform(X_test)"
      ]
    },
    {
      "cell_type": "markdown",
      "metadata": {
        "id": "aOqCUhzwTvjJ"
      },
      "source": [
        "MODEL 3"
      ]
    },
    {
      "cell_type": "code",
      "execution_count": 387,
      "metadata": {
        "colab": {
          "base_uri": "https://localhost:8080/"
        },
        "id": "RgtId3AnJAtp",
        "outputId": "fa0ef705-cc15-47e6-8b27-c28be1fc1fed"
      },
      "outputs": [
        {
          "output_type": "execute_result",
          "data": {
            "text/plain": [
              "RandomForestClassifier(criterion='entropy', n_estimators=50)"
            ]
          },
          "metadata": {},
          "execution_count": 387
        }
      ],
      "source": [
        "#Membuat model random forest dengan banyak tree dalam forest adalah 50 serta untuk mengukur kualitas split menggunakan entropi untuk perolehan infomasi\n",
        "from sklearn.ensemble import RandomForestClassifier\n",
        "classifier_rf = RandomForestClassifier(n_estimators=50, criterion=\"entropy\")\n",
        "classifier_rf.fit(X_train, y_train)"
      ]
    },
    {
      "cell_type": "code",
      "execution_count": 388,
      "metadata": {
        "id": "GVIFtT-uJCoH"
      },
      "outputs": [],
      "source": [
        "y_train_pred = classifier_rf.predict(X_train)\n",
        "y_test_pred = classifier_rf.predict(X_test)"
      ]
    },
    {
      "cell_type": "markdown",
      "metadata": {
        "id": "iwZo56gmWc-T"
      },
      "source": [
        "Evaluasi Model 3"
      ]
    },
    {
      "cell_type": "code",
      "execution_count": 389,
      "metadata": {
        "colab": {
          "base_uri": "https://localhost:8080/"
        },
        "id": "ApyO3-ByJHxb",
        "outputId": "c48a284a-8c8e-4c6c-ec90-98049073481c"
      },
      "outputs": [
        {
          "output_type": "stream",
          "name": "stdout",
          "text": [
            "Training-set accuracy score: 1.0\n",
            "Test-set accuracy score: 0.9840909090909091\n"
          ]
        }
      ],
      "source": [
        "#Menampilkan nilai akurasi untuk prediksi di data training\n",
        "print('Training-set accuracy score:', classifier_rf.score(X_train, y_train))\n",
        "#Menampilkan nilai akurasi untuk prediksi di data testing\n",
        "print('Test-set accuracy score:', classifier_rf.score(X_test, y_test))"
      ]
    },
    {
      "cell_type": "code",
      "execution_count": 390,
      "metadata": {
        "colab": {
          "base_uri": "https://localhost:8080/"
        },
        "id": "Ke7Y431MVMv9",
        "outputId": "b5ab8640-6ed8-4997-94be-0b77f22f3e31"
      },
      "outputs": [
        {
          "output_type": "stream",
          "name": "stdout",
          "text": [
            "              precision    recall  f1-score   support\n",
            "\n",
            "           0       1.00      1.00      1.00        75\n",
            "           1       1.00      1.00      1.00       897\n",
            "           2       1.00      1.00      1.00       668\n",
            "           3       1.00      1.00      1.00       116\n",
            "\n",
            "    accuracy                           1.00      1756\n",
            "   macro avg       1.00      1.00      1.00      1756\n",
            "weighted avg       1.00      1.00      1.00      1756\n",
            "\n"
          ]
        }
      ],
      "source": [
        "print(classification_report(y_train, y_train_pred))"
      ]
    },
    {
      "cell_type": "code",
      "execution_count": 391,
      "metadata": {
        "colab": {
          "base_uri": "https://localhost:8080/"
        },
        "id": "I6AYGVMQVhBh",
        "outputId": "df35da3e-3b24-474f-f72e-5e512304e93e"
      },
      "outputs": [
        {
          "output_type": "stream",
          "name": "stdout",
          "text": [
            "              precision    recall  f1-score   support\n",
            "\n",
            "           0       1.00      1.00      1.00        18\n",
            "           1       0.99      0.98      0.99       231\n",
            "           2       0.98      0.98      0.98       161\n",
            "           3       0.97      1.00      0.98        30\n",
            "\n",
            "    accuracy                           0.98       440\n",
            "   macro avg       0.98      0.99      0.99       440\n",
            "weighted avg       0.98      0.98      0.98       440\n",
            "\n"
          ]
        }
      ],
      "source": [
        "print(classification_report(y_test, y_test_pred))"
      ]
    },
    {
      "cell_type": "code",
      "execution_count": 392,
      "metadata": {
        "colab": {
          "base_uri": "https://localhost:8080/",
          "height": 279
        },
        "id": "wwaFtmVSWJm-",
        "outputId": "7bab97b3-f5fd-4a87-87ee-aa163776e306"
      },
      "outputs": [
        {
          "output_type": "display_data",
          "data": {
            "text/plain": [
              "<Figure size 432x288 with 2 Axes>"
            ],
            "image/png": "[encoded data removed]"
          },
          "metadata": {
            "needs_background": "light"
          }
        }
      ],
      "source": [
        "#Evaluasi model dengan confusion matrix\n",
        "import matplotlib.pyplot as plt\n",
        "import numpy\n",
        "from sklearn import metrics\n",
        "\n",
        "\n",
        "confusion_matrix = metrics.confusion_matrix(y_test, y_test_pred)\n",
        "\n",
        "cm_display = metrics.ConfusionMatrixDisplay(confusion_matrix = confusion_matrix, display_labels = [\"Low\",\"Normal\",\"High\",\"Very-High\" ])\n",
        "\n",
        "cm_display.plot()\n",
        "plt.show()"
      ]
    },
    {
      "cell_type": "markdown",
      "metadata": {
        "id": "858MoesuLzQG"
      },
      "source": [
        "TEST 4"
      ]
    },
    {
      "cell_type": "code",
      "execution_count": 393,
      "metadata": {
        "colab": {
          "base_uri": "https://localhost:8080/"
        },
        "id": "Zg9Sowa_L19m",
        "outputId": "424d7a7a-560f-4286-90e8-febe6ff843fd"
      },
      "outputs": [
        {
          "output_type": "execute_result",
          "data": {
            "text/plain": [
              "((1976, 4), (220, 4))"
            ]
          },
          "metadata": {},
          "execution_count": 393
        }
      ],
      "source": [
        "#Membagi dataset menjadi data training dan testing dengan perbandingan 90:10 data digunakan sebagai data testing.\n",
        "X_train, X_test, y_train, y_test = train_test_split(X, y, test_size = 0.10, random_state = 50)\n",
        "X_train.shape, X_test.shape"
      ]
    },
    {
      "cell_type": "code",
      "execution_count": 394,
      "metadata": {
        "id": "fJVOgeSOUSZB"
      },
      "outputs": [],
      "source": [
        "#Normalisasi Data\n",
        "from sklearn.preprocessing import StandardScaler\n",
        "scaler = StandardScaler()\n",
        "scaler.fit(X_train)\n",
        "x_train = scaler.transform(X_train)\n",
        "x_test = scaler.transform(X_test)"
      ]
    },
    {
      "cell_type": "markdown",
      "metadata": {
        "id": "VWmHYZGoUP__"
      },
      "source": [
        "MODEL 4"
      ]
    },
    {
      "cell_type": "code",
      "execution_count": 395,
      "metadata": {
        "colab": {
          "base_uri": "https://localhost:8080/"
        },
        "id": "m03EJLRCL_jU",
        "outputId": "8ca8cb1f-49ab-4a1e-e79e-bacd52265a2b"
      },
      "outputs": [
        {
          "output_type": "execute_result",
          "data": {
            "text/plain": [
              "RandomForestClassifier(criterion='entropy', n_estimators=50)"
            ]
          },
          "metadata": {},
          "execution_count": 395
        }
      ],
      "source": [
        "#Membuat model random forest dengan banyak tree dalam forest adalah 10 serta untuk mengukur kualitas split menggunakan entropi untuk perolehan infomasi\n",
        "from sklearn.ensemble import RandomForestClassifier\n",
        "classifier_rf = RandomForestClassifier(n_estimators= 50, criterion=\"entropy\")\n",
        "classifier_rf.fit(X_train, y_train)"
      ]
    },
    {
      "cell_type": "code",
      "execution_count": 396,
      "metadata": {
        "id": "d6VDVD3xMErb"
      },
      "outputs": [],
      "source": [
        "y_train_pred = classifier_rf.predict(X_train)\n",
        "y_test_pred = classifier_rf.predict(X_test)"
      ]
    },
    {
      "cell_type": "markdown",
      "metadata": {
        "id": "aXwP-K9kWgII"
      },
      "source": [
        "Evaluasi Model 4"
      ]
    },
    {
      "cell_type": "code",
      "execution_count": 397,
      "metadata": {
        "colab": {
          "base_uri": "https://localhost:8080/"
        },
        "id": "CGWsETmxMII0",
        "outputId": "6d70a42d-b044-412c-8cfe-e4745e851a2d"
      },
      "outputs": [
        {
          "output_type": "stream",
          "name": "stdout",
          "text": [
            "Training-set accuracy score: 1.0\n",
            "Test-set accuracy score: 0.9863636363636363\n"
          ]
        }
      ],
      "source": [
        "#Menampilkan nilai akurasi untuk prediksi di data training\n",
        "print('Training-set accuracy score:', classifier_rf.score(X_train, y_train))\n",
        "#Menampilkan nilai akurasi untuk prediksi di data testing\n",
        "print('Test-set accuracy score:', classifier_rf.score(X_test, y_test))"
      ]
    },
    {
      "cell_type": "code",
      "execution_count": 398,
      "metadata": {
        "colab": {
          "base_uri": "https://localhost:8080/"
        },
        "id": "KwIaZ9WRVSRi",
        "outputId": "851ae7d4-2ecc-4d38-8a4e-4cdc98c0b041"
      },
      "outputs": [
        {
          "output_type": "stream",
          "name": "stdout",
          "text": [
            "              precision    recall  f1-score   support\n",
            "\n",
            "           0       1.00      1.00      1.00        84\n",
            "           1       1.00      1.00      1.00      1005\n",
            "           2       1.00      1.00      1.00       757\n",
            "           3       1.00      1.00      1.00       130\n",
            "\n",
            "    accuracy                           1.00      1976\n",
            "   macro avg       1.00      1.00      1.00      1976\n",
            "weighted avg       1.00      1.00      1.00      1976\n",
            "\n"
          ]
        }
      ],
      "source": [
        "print(classification_report(y_train, y_train_pred))"
      ]
    },
    {
      "cell_type": "code",
      "execution_count": 399,
      "metadata": {
        "colab": {
          "base_uri": "https://localhost:8080/"
        },
        "id": "nSbadivCVjDq",
        "outputId": "bd598d4f-fd7a-4903-97b6-01c68f8ee6d3"
      },
      "outputs": [
        {
          "output_type": "stream",
          "name": "stdout",
          "text": [
            "              precision    recall  f1-score   support\n",
            "\n",
            "           0       1.00      1.00      1.00         9\n",
            "           1       0.98      1.00      0.99       123\n",
            "           2       1.00      0.96      0.98        72\n",
            "           3       0.94      1.00      0.97        16\n",
            "\n",
            "    accuracy                           0.99       220\n",
            "   macro avg       0.98      0.99      0.99       220\n",
            "weighted avg       0.99      0.99      0.99       220\n",
            "\n"
          ]
        }
      ],
      "source": [
        "print(classification_report(y_test, y_test_pred))"
      ]
    },
    {
      "cell_type": "code",
      "execution_count": 400,
      "metadata": {
        "colab": {
          "base_uri": "https://localhost:8080/",
          "height": 279
        },
        "id": "tQSCCIleWL6u",
        "outputId": "a357f15f-6717-414b-849a-9f1426ba4427"
      },
      "outputs": [
        {
          "output_type": "display_data",
          "data": {
            "text/plain": [
              "<Figure size 432x288 with 2 Axes>"
            ],
            "image/png": "[encoded data removed]"
          },
          "metadata": {
            "needs_background": "light"
          }
        }
      ],
      "source": [
        "#Evaluasi model dengan confusion matrix\n",
        "import matplotlib.pyplot as plt\n",
        "import numpy\n",
        "from sklearn import metrics\n",
        "\n",
        "\n",
        "confusion_matrix = metrics.confusion_matrix(y_test, y_test_pred)\n",
        "\n",
        "cm_display = metrics.ConfusionMatrixDisplay(confusion_matrix = confusion_matrix, display_labels = [\"Low\",\"Normal\",\"High\",\"Very-High\" ])\n",
        "\n",
        "cm_display.plot()\n",
        "plt.show()"
      ]
    }
  ],
  "metadata": {
    "colab": {
      "provenance": []
    },
    "kernelspec": {
      "display_name": "Python 3",
      "name": "python3"
    },
    "language_info": {
      "name": "python"
    }
  },
  "nbformat": 4,
  "nbformat_minor": 0
}